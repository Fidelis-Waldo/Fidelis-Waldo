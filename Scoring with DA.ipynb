{
 "cells": [
  {
   "cell_type": "code",
   "execution_count": 1,
   "id": "d8a31266-aecb-46b0-b7f1-d3ec7d8e44e9",
   "metadata": {},
   "outputs": [],
   "source": [
    "import pandas as pd \n",
    "import numpy as np\n",
    "import joblib\n",
    "import streamlit as st\n",
    "from sklearn.discriminant_analysis import LinearDiscriminantAnalysis as LDA\n",
    "from sklearn.model_selection import train_test_split\n",
    "from sklearn.metrics import classification_report\n",
    "from sklearn import metrics\n",
    "\n",
    "FILE_NAME = \"Farmers_Data.csv\"\n",
    "\n",
    "df = pd.read_csv(FILE_NAME, delimiter=\",\")"
   ]
  },
  {
   "cell_type": "code",
   "execution_count": 2,
   "id": "2e47d94f-419e-474f-979a-f84bbbaeb37e",
   "metadata": {},
   "outputs": [
    {
     "data": {
      "text/html": [
       "<div>\n",
       "<style scoped>\n",
       "    .dataframe tbody tr th:only-of-type {\n",
       "        vertical-align: middle;\n",
       "    }\n",
       "\n",
       "    .dataframe tbody tr th {\n",
       "        vertical-align: top;\n",
       "    }\n",
       "\n",
       "    .dataframe thead th {\n",
       "        text-align: right;\n",
       "    }\n",
       "</style>\n",
       "<table border=\"1\" class=\"dataframe\">\n",
       "  <thead>\n",
       "    <tr style=\"text-align: right;\">\n",
       "      <th></th>\n",
       "      <th>Age (years)</th>\n",
       "      <th>Gender</th>\n",
       "      <th>Education (years)</th>\n",
       "      <th>Farming Experience (years)</th>\n",
       "      <th>Distance to Loan Source (km)</th>\n",
       "      <th>Loan-to-Asset Ratio</th>\n",
       "      <th>Operating Expenditure to Income Ratio</th>\n",
       "      <th>Outstanding Loan-to-Asset Ratio</th>\n",
       "      <th>Farm Size (ha)</th>\n",
       "      <th>Credit Eligibility</th>\n",
       "      <th>Z-Score</th>\n",
       "    </tr>\n",
       "  </thead>\n",
       "  <tbody>\n",
       "    <tr>\n",
       "      <th>0</th>\n",
       "      <td>53</td>\n",
       "      <td>0</td>\n",
       "      <td>10</td>\n",
       "      <td>1</td>\n",
       "      <td>3.1</td>\n",
       "      <td>0.41</td>\n",
       "      <td>0.64</td>\n",
       "      <td>0.53</td>\n",
       "      <td>8.8</td>\n",
       "      <td>1</td>\n",
       "      <td>0.770462</td>\n",
       "    </tr>\n",
       "    <tr>\n",
       "      <th>1</th>\n",
       "      <td>39</td>\n",
       "      <td>0</td>\n",
       "      <td>9</td>\n",
       "      <td>18</td>\n",
       "      <td>14.7</td>\n",
       "      <td>0.70</td>\n",
       "      <td>0.56</td>\n",
       "      <td>0.58</td>\n",
       "      <td>10.4</td>\n",
       "      <td>0</td>\n",
       "      <td>-1.404712</td>\n",
       "    </tr>\n",
       "    <tr>\n",
       "      <th>2</th>\n",
       "      <td>32</td>\n",
       "      <td>0</td>\n",
       "      <td>13</td>\n",
       "      <td>32</td>\n",
       "      <td>8.9</td>\n",
       "      <td>0.57</td>\n",
       "      <td>0.60</td>\n",
       "      <td>0.12</td>\n",
       "      <td>10.7</td>\n",
       "      <td>1</td>\n",
       "      <td>0.413601</td>\n",
       "    </tr>\n",
       "    <tr>\n",
       "      <th>3</th>\n",
       "      <td>45</td>\n",
       "      <td>0</td>\n",
       "      <td>12</td>\n",
       "      <td>11</td>\n",
       "      <td>11.7</td>\n",
       "      <td>0.57</td>\n",
       "      <td>0.62</td>\n",
       "      <td>0.47</td>\n",
       "      <td>14.1</td>\n",
       "      <td>0</td>\n",
       "      <td>-0.370764</td>\n",
       "    </tr>\n",
       "    <tr>\n",
       "      <th>4</th>\n",
       "      <td>43</td>\n",
       "      <td>0</td>\n",
       "      <td>7</td>\n",
       "      <td>21</td>\n",
       "      <td>12.9</td>\n",
       "      <td>0.54</td>\n",
       "      <td>0.56</td>\n",
       "      <td>0.55</td>\n",
       "      <td>10.4</td>\n",
       "      <td>1</td>\n",
       "      <td>-0.727027</td>\n",
       "    </tr>\n",
       "  </tbody>\n",
       "</table>\n",
       "</div>"
      ],
      "text/plain": [
       "   Age (years)  Gender  Education (years)  Farming Experience (years)  \\\n",
       "0           53       0                 10                           1   \n",
       "1           39       0                  9                          18   \n",
       "2           32       0                 13                          32   \n",
       "3           45       0                 12                          11   \n",
       "4           43       0                  7                          21   \n",
       "\n",
       "   Distance to Loan Source (km)  Loan-to-Asset Ratio  \\\n",
       "0                           3.1                 0.41   \n",
       "1                          14.7                 0.70   \n",
       "2                           8.9                 0.57   \n",
       "3                          11.7                 0.57   \n",
       "4                          12.9                 0.54   \n",
       "\n",
       "   Operating Expenditure to Income Ratio  Outstanding Loan-to-Asset Ratio  \\\n",
       "0                                   0.64                             0.53   \n",
       "1                                   0.56                             0.58   \n",
       "2                                   0.60                             0.12   \n",
       "3                                   0.62                             0.47   \n",
       "4                                   0.56                             0.55   \n",
       "\n",
       "   Farm Size (ha)  Credit Eligibility   Z-Score  \n",
       "0             8.8                   1  0.770462  \n",
       "1            10.4                   0 -1.404712  \n",
       "2            10.7                   1  0.413601  \n",
       "3            14.1                   0 -0.370764  \n",
       "4            10.4                   1 -0.727027  "
      ]
     },
     "execution_count": 2,
     "metadata": {},
     "output_type": "execute_result"
    }
   ],
   "source": [
    "df['Gender'] = df['Gender'].map({'Female': 1, 'Male': 0})\n",
    "df['Credit Eligibility'] = df['Credit Eligibility'].map({'Yes': 1, 'No': 0})\n",
    "df.head()"
   ]
  },
  {
   "cell_type": "code",
   "execution_count": 3,
   "id": "fb5abbd4-21ac-4d25-843b-357fc088520d",
   "metadata": {},
   "outputs": [],
   "source": [
    "X=df[['Age (years)','Gender','Education (years)','Farming Experience (years)','Distance to Loan Source (km)','Loan-to-Asset Ratio','Operating Expenditure to Income Ratio','Outstanding Loan-to-Asset Ratio','Farm Size (ha)']]\n",
    "y=df['Credit Eligibility']"
   ]
  },
  {
   "cell_type": "code",
   "execution_count": 4,
   "id": "4c7bbf98-d5fe-448e-8d79-39a05e137bdd",
   "metadata": {},
   "outputs": [],
   "source": [
    "X_train,X_test,y_train,y_test=train_test_split(X,y,test_size=.2,random_state=0)"
   ]
  },
  {
   "cell_type": "code",
   "execution_count": 5,
   "id": "6a6eeeef-5cc7-4c15-a163-d1eb4e0f459a",
   "metadata": {},
   "outputs": [
    {
     "data": {
      "text/plain": [
       "0.61875"
      ]
     },
     "execution_count": 5,
     "metadata": {},
     "output_type": "execute_result"
    }
   ],
   "source": [
    "clf=LDA()\n",
    "clf.fit(X_train,y_train)\n",
    "clf.score(X_train,y_train) "
   ]
  },
  {
   "cell_type": "code",
   "execution_count": 6,
   "id": "0c5d71d0-fbfd-4f34-89be-d1b60f287516",
   "metadata": {},
   "outputs": [],
   "source": [
    " y_pred=clf.predict(X_test)"
   ]
  },
  {
   "cell_type": "code",
   "execution_count": 7,
   "id": "a8ba110b-6001-4ba1-bfe1-c62e3c133156",
   "metadata": {},
   "outputs": [
    {
     "data": {
      "text/plain": [
       "array([0, 0, 0, 0, 0, 0, 0, 0, 0, 1, 0, 1, 1, 1, 0, 1, 0, 1, 0, 0, 0, 0,\n",
       "       0, 1, 1, 1, 0, 1, 0, 0, 0, 1, 0, 0, 1, 1, 1, 0, 0, 0], dtype=int64)"
      ]
     },
     "execution_count": 7,
     "metadata": {},
     "output_type": "execute_result"
    }
   ],
   "source": [
    "y_pred"
   ]
  },
  {
   "cell_type": "code",
   "execution_count": 8,
   "id": "13e7520f-abd1-4cee-a955-13bf836f1f4a",
   "metadata": {},
   "outputs": [
    {
     "name": "stdout",
     "output_type": "stream",
     "text": [
      "              precision    recall  f1-score   support\n",
      "\n",
      "           0       0.54      0.78      0.64        18\n",
      "           1       0.71      0.45      0.56        22\n",
      "\n",
      "    accuracy                           0.60        40\n",
      "   macro avg       0.63      0.62      0.60        40\n",
      "weighted avg       0.64      0.60      0.59        40\n",
      "\n"
     ]
    }
   ],
   "source": [
    " print(classification_report(y_test,y_pred))"
   ]
  },
  {
   "cell_type": "code",
   "execution_count": 9,
   "id": "233f6759-a633-4a3f-a309-d43fbb9de5ce",
   "metadata": {},
   "outputs": [
    {
     "name": "stdout",
     "output_type": "stream",
     "text": [
      "                                 Feature  Coefficient\n",
      "0                            Age (years)     0.003642\n",
      "1                                 Gender     0.160612\n",
      "2                      Education (years)     0.062973\n",
      "3             Farming Experience (years)     0.007006\n",
      "4           Distance to Loan Source (km)    -0.057132\n",
      "5                    Loan-to-Asset Ratio    -2.099648\n",
      "6  Operating Expenditure to Income Ratio    -1.669499\n",
      "7        Outstanding Loan-to-Asset Ratio    -0.189045\n",
      "8                         Farm Size (ha)     0.003658\n"
     ]
    }
   ],
   "source": [
    "coefficients = clf.coef_\n",
    "feature_importance = pd.DataFrame({'Feature': X.columns, 'Coefficient': coefficients[0]})\n",
    "print(feature_importance)"
   ]
  },
  {
   "cell_type": "code",
   "execution_count": null,
   "id": "ab63b712-e431-44d8-bf00-1ea82a61b8f1",
   "metadata": {},
   "outputs": [],
   "source": []
  },
  {
   "cell_type": "code",
   "execution_count": 11,
   "id": "1b78aef0-b803-4cb7-8a4a-8f75811937b1",
   "metadata": {},
   "outputs": [
    {
     "name": "stdout",
     "output_type": "stream",
     "text": [
      "     Applicant   Z-Score\n",
      "0            1  0.770462\n",
      "1            2 -1.404712\n",
      "2            3  0.413601\n",
      "3            4 -0.370764\n",
      "4            5 -0.727027\n",
      "..         ...       ...\n",
      "195        196 -1.156741\n",
      "196        197  1.633243\n",
      "197        198 -2.414914\n",
      "198        199  2.027108\n",
      "199        200  0.196382\n",
      "\n",
      "[200 rows x 2 columns]\n"
     ]
    }
   ],
   "source": [
    "# Calculate Z-scores\n",
    "z_scores = clf.transform(X)\n",
    "\n",
    "# Create a DataFrame for visualization\n",
    "z_scores_df = pd.DataFrame({'Applicant': range(1, len(z_scores) + 1), 'Z-Score': z_scores.flatten()})\n",
    "print(z_scores_df)"
   ]
  },
  {
   "cell_type": "code",
   "execution_count": 12,
   "id": "38c0efa0-c8c9-4be2-98fc-b40e4d7b0d4a",
   "metadata": {},
   "outputs": [
    {
     "data": {
      "text/html": [
       "<div>\n",
       "<style scoped>\n",
       "    .dataframe tbody tr th:only-of-type {\n",
       "        vertical-align: middle;\n",
       "    }\n",
       "\n",
       "    .dataframe tbody tr th {\n",
       "        vertical-align: top;\n",
       "    }\n",
       "\n",
       "    .dataframe thead th {\n",
       "        text-align: right;\n",
       "    }\n",
       "</style>\n",
       "<table border=\"1\" class=\"dataframe\">\n",
       "  <thead>\n",
       "    <tr style=\"text-align: right;\">\n",
       "      <th></th>\n",
       "      <th>Applicant</th>\n",
       "      <th>Z-Score</th>\n",
       "    </tr>\n",
       "  </thead>\n",
       "  <tbody>\n",
       "    <tr>\n",
       "      <th>0</th>\n",
       "      <td>1</td>\n",
       "      <td>0.770462</td>\n",
       "    </tr>\n",
       "    <tr>\n",
       "      <th>1</th>\n",
       "      <td>2</td>\n",
       "      <td>-1.404712</td>\n",
       "    </tr>\n",
       "    <tr>\n",
       "      <th>2</th>\n",
       "      <td>3</td>\n",
       "      <td>0.413601</td>\n",
       "    </tr>\n",
       "    <tr>\n",
       "      <th>3</th>\n",
       "      <td>4</td>\n",
       "      <td>-0.370764</td>\n",
       "    </tr>\n",
       "    <tr>\n",
       "      <th>4</th>\n",
       "      <td>5</td>\n",
       "      <td>-0.727027</td>\n",
       "    </tr>\n",
       "  </tbody>\n",
       "</table>\n",
       "</div>"
      ],
      "text/plain": [
       "   Applicant   Z-Score\n",
       "0          1  0.770462\n",
       "1          2 -1.404712\n",
       "2          3  0.413601\n",
       "3          4 -0.370764\n",
       "4          5 -0.727027"
      ]
     },
     "execution_count": 12,
     "metadata": {},
     "output_type": "execute_result"
    }
   ],
   "source": [
    "z_scores_df.head()"
   ]
  },
  {
   "cell_type": "code",
   "execution_count": 13,
   "id": "f89cb79e-2a24-4473-8ba8-008fb2b47ec2",
   "metadata": {},
   "outputs": [
    {
     "name": "stdout",
     "output_type": "stream",
     "text": [
      "\n"
     ]
    }
   ],
   "source": [
    "# Convert Z-scores to a list\n",
    "z_scores_list = z_scores.flatten().tolist()\n",
    "\n",
    "# Print the list\n",
    "print()\n"
   ]
  },
  {
   "cell_type": "code",
   "execution_count": 14,
   "id": "3d94245a-77dd-4ca6-a97b-89c08cae4058",
   "metadata": {},
   "outputs": [
    {
     "name": "stdout",
     "output_type": "stream",
     "text": [
      "Z-scores saved to 'z_scores_output.xlsx'\n"
     ]
    }
   ],
   "source": [
    "# Create a DataFrame for Z-scores\n",
    "z_scores_df = pd.DataFrame({\n",
    "    'Applicant': range(1, len(z_scores) + 1),\n",
    "    'Z-Score': z_scores.flatten()\n",
    "})\n",
    "\n",
    "# Save the Z-scores to an Excel file\n",
    "z_scores_df.to_excel(\"z_scores_output.xlsx\", index=False)\n",
    "\n",
    "print(\"Z-scores saved to 'z_scores_output.xlsx'\")\n"
   ]
  },
  {
   "cell_type": "code",
   "execution_count": 15,
   "id": "9a63b43e-b2b0-4cb5-a88c-ea2f976dd37c",
   "metadata": {},
   "outputs": [
    {
     "name": "stdout",
     "output_type": "stream",
     "text": [
      "Z-scores saved to 'z_scores_output.csv'\n"
     ]
    }
   ],
   "source": [
    "# Save the Z-scores to a CSV file\n",
    "z_scores_df.to_csv(\"z_scores_output.csv\", index=False)\n",
    "\n",
    "print(\"Z-scores saved to 'z_scores_output.csv'\")\n"
   ]
  },
  {
   "cell_type": "code",
   "execution_count": 35,
   "id": "2012797e-8d6b-4c3f-ba7b-ab3d941dbd04",
   "metadata": {},
   "outputs": [
    {
     "data": {
      "text/plain": [
       "['discriminant_analysis_model.pkl']"
      ]
     },
     "execution_count": 35,
     "metadata": {},
     "output_type": "execute_result"
    }
   ],
   "source": [
    "# Save the model\n",
    "joblib.dump(clf, 'discriminant_analysis_model.pkl')\n"
   ]
  },
  {
   "cell_type": "code",
   "execution_count": 17,
   "id": "2aa4842a-74d2-490a-aa86-d335ce446bd1",
   "metadata": {},
   "outputs": [
    {
     "name": "stderr",
     "output_type": "stream",
     "text": [
      "2025-01-15 10:00:20.662 \n",
      "  \u001b[33m\u001b[1mWarning:\u001b[0m to view this Streamlit app on a browser, run it with the following\n",
      "  command:\n",
      "\n",
      "    streamlit run C:\\Users\\CHUKWUEMEKA DIKE\\anaconda3\\Lib\\site-packages\\ipykernel_launcher.py [ARGUMENTS]\n"
     ]
    }
   ],
   "source": [
    "# Load the trained model\n",
    "#model = joblib.load('discriminant_analysis_model.pkl')\n",
    "model = clf\n",
    "\n",
    "# Streamlit app title\n",
    "st.title(\"Discriminant Analysis Classifier\")\n",
    "\n",
    "# User input form\n",
    "st.header(\"Input Your Data\")\n",
    "\n",
    "# 1. Age (years)\n",
    "age = st.number_input(\"Age (years)\", min_value=0, max_value=120, step=1)\n",
    "\n",
    "# 2. Gender\n",
    "gender = st.radio(\"Gender\", options=[\"Male\", \"Female\"])\n",
    "gender_value = 0 if gender == \"Male\" else 1  # Convert to numerical value\n",
    "\n",
    "# 3. Education (years)\n",
    "education = st.number_input(\"Education (years)\", min_value=0, max_value=16, step=1)\n",
    "\n",
    "# Ensure education is less than age\n",
    "if education >= age:\n",
    "    st.warning(\"Education value must be less than Age. Please adjust your input.\")\n",
    "\n",
    "# 4. Farming Experience (years)\n",
    "farming_experience = st.number_input(\"Farming Experience (years)\", min_value=0, step=1)\n",
    "\n",
    "# Ensure farming experience is less than age by at least 15 years\n",
    "if farming_experience >= age - 15:\n",
    "    st.warning(\"Farming Experience must be at least 15 years less than Age. Please adjust your input.\")\n",
    "\n",
    "# 5. Distance to Loan Source (km)\n",
    "distance_to_loan_source = st.number_input(\"Distance to Loan Source (km)\", min_value=0.0, step=0.1)\n",
    "\n",
    "# 6. Loan to Asset Ratio\n",
    "st.subheader(\"Loan to Asset Ratio\")\n",
    "loan_value = st.number_input(\"Loan Value\", min_value=0.0, step=0.1)\n",
    "asset_value = st.number_input(\"Asset Value\", min_value=0.1, step=0.1)  # Ensure non-zero\n",
    "loan_to_asset_ratio = loan_value / asset_value if asset_value > 0 else 0.0\n",
    "\n",
    "# 7. Operating Expenditure to Income Ratio\n",
    "st.subheader(\"Operating Expenditure to Income Ratio\")\n",
    "operating_expenditure = st.number_input(\"Operating Expenditure\", min_value=0.0, step=0.1)\n",
    "income_value = st.number_input(\"Income\", min_value=0.1, step=0.1)  # Ensure non-zero\n",
    "opex_to_income_ratio = operating_expenditure / income_value if income_value > 0 else 0.0\n",
    "\n",
    "# 8. Outstanding Loan to Asset Ratio\n",
    "st.subheader(\"Outstanding Loan to Asset Ratio\")\n",
    "outstanding_loan = st.number_input(\"Outstanding Loan Value\", min_value=0.0, step=0.1)\n",
    "outstanding_loan_to_asset_ratio = outstanding_loan / asset_value if asset_value > 0 else 0.0\n",
    "\n",
    "# 9. Farm Size\n",
    "farm_size = st.number_input(\"Farm Size (acres)\", min_value=0.0, step=0.1)\n",
    "\n",
    "# Validation to ensure all required fields are valid\n",
    "if st.button(\"Classify\"):\n",
    "    if education >= age:\n",
    "        st.error(\"Please ensure Education value is less than Age.\")\n",
    "    elif farming_experience >= age - 15:\n",
    "        st.error(\"Please ensure Farming Experience is at least 15 years less than Age.\")\n",
    "    else:\n",
    "        # Prepare input data for prediction\n",
    "        input_data = np.array([[\n",
    "            age, gender_value, education, farming_experience,\n",
    "            distance_to_loan_source, loan_to_asset_ratio,\n",
    "            opex_to_income_ratio, outstanding_loan_to_asset_ratio,\n",
    "            farm_size\n",
    "        ]])\n",
    "\n",
    "        # Make prediction\n",
    "        prediction = model.predict(input_data)\n",
    "        prediction_proba = model.predict_proba(input_data)\n",
    "\n",
    "        # Display results\n",
    "        st.subheader(\"Prediction Result\")\n",
    "        st.write(f\"The predicted class is: {prediction[0]}\")\n",
    "\n",
    "        st.subheader(\"Prediction Probabilities\")\n",
    "        st.write(prediction_proba)\n"
   ]
  },
  {
   "cell_type": "code",
   "execution_count": null,
   "id": "4b950232-c739-47fc-ba60-ae7460e6e994",
   "metadata": {},
   "outputs": [],
   "source": []
  },
  {
   "cell_type": "code",
   "execution_count": null,
   "id": "bb987047-e409-4e2d-a7a5-135ac982bb39",
   "metadata": {},
   "outputs": [],
   "source": []
  }
 ],
 "metadata": {
  "kernelspec": {
   "display_name": "Python 3 (ipykernel)",
   "language": "python",
   "name": "python3"
  },
  "language_info": {
   "codemirror_mode": {
    "name": "ipython",
    "version": 3
   },
   "file_extension": ".py",
   "mimetype": "text/x-python",
   "name": "python",
   "nbconvert_exporter": "python",
   "pygments_lexer": "ipython3",
   "version": "3.12.4"
  }
 },
 "nbformat": 4,
 "nbformat_minor": 5
}
